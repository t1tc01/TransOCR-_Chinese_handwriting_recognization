{
 "cells": [
  {
   "cell_type": "code",
   "execution_count": 2,
   "id": "d874bb7b",
   "metadata": {},
   "outputs": [],
   "source": [
    "import torch\n",
    "import torch.nn as nn\n",
    "import argparse\n",
    "from model.transocr import Transformer\n",
    "\n",
    "\n",
    "import numpy as np\n",
    "import cv2 as cv"
   ]
  },
  {
   "cell_type": "code",
   "execution_count": 4,
   "id": "26da3058",
   "metadata": {},
   "outputs": [
    {
     "data": {
      "text/plain": [
       "torch.Size([3, 224, 224])"
      ]
     },
     "execution_count": 4,
     "metadata": {},
     "output_type": "execute_result"
    }
   ],
   "source": [
    "image_np = np.random.rand(3, 224, 224)\n",
    "image_tensor = torch.from_numpy(image_np)\n",
    "\n",
    "image_tensor.shape"
   ]
  },
  {
   "cell_type": "code",
   "execution_count": 5,
   "id": "f93393a8",
   "metadata": {},
   "outputs": [],
   "source": [
    "IMAGE_H = 32\n",
    "IMAGE_W = 256\n",
    "PATH = ''\n",
    "resume = 'handwriting_radical.pth'"
   ]
  },
  {
   "cell_type": "code",
   "execution_count": 6,
   "id": "01fcaa39",
   "metadata": {},
   "outputs": [
    {
     "ename": "NameError",
     "evalue": "name 'model' is not defined",
     "output_type": "error",
     "traceback": [
      "\u001b[1;31m---------------------------------------------------------------------------\u001b[0m",
      "\u001b[1;31mNameError\u001b[0m                                 Traceback (most recent call last)",
      "Cell \u001b[1;32mIn[6], line 1\u001b[0m\n\u001b[1;32m----> 1\u001b[0m \u001b[43mmodel\u001b[49m\u001b[38;5;241m.\u001b[39mload_state_dict(torch\u001b[38;5;241m.\u001b[39mload(resume))\n\u001b[0;32m      2\u001b[0m \u001b[38;5;28mprint\u001b[39m(\u001b[38;5;124m'\u001b[39m\u001b[38;5;124mloading pretrained model！！！\u001b[39m\u001b[38;5;124m'\u001b[39m)\n",
      "\u001b[1;31mNameError\u001b[0m: name 'model' is not defined"
     ]
    }
   ],
   "source": [
    "model = Transformer(args).cuda()\n",
    "model = nn.DataParallel(model)\n",
    "\n",
    "model.load_state_dict(torch.load(resume))\n",
    "print('loading pretrained model！！！')"
   ]
  },
  {
   "cell_type": "code",
   "execution_count": null,
   "id": "4e530c46",
   "metadata": {},
   "outputs": [],
   "source": [
    "image = cv.imread(path)\n",
    "image = torch.from_numpy(image)\n",
    "image = torch.nn.functional.interpolate(image, size=(IMAGE_H, IMAGE_W))\n",
    "\n",
    "batch = image.shape[0]\n",
    "pred = torch.zeros(batch,1).long().cuda()\n",
    "image_features = None\n",
    "\n",
    "length_tmp = torch.zeros(batch).long().cuda() + i + 1\n",
    "result = model(image, length_tmp, pred, conv_feature=image_features, test=True)\n",
    "\n",
    "prediction = result['pred']\n",
    "now_pred = torch.max(torch.softmax(prediction,2), 2)[1]\n",
    "pred = torch.cat((pred, now_pred[:,-1].view(-1,1)), 1)\n",
    "image_features = result['conv']\n",
    "\n",
    "text_pred_list = []"
   ]
  }
 ],
 "metadata": {
  "kernelspec": {
   "display_name": "Python 3 (ipykernel)",
   "language": "python",
   "name": "python3"
  },
  "language_info": {
   "codemirror_mode": {
    "name": "ipython",
    "version": 3
   },
   "file_extension": ".py",
   "mimetype": "text/x-python",
   "name": "python",
   "nbconvert_exporter": "python",
   "pygments_lexer": "ipython3",
   "version": "3.9.16"
  }
 },
 "nbformat": 4,
 "nbformat_minor": 5
}
